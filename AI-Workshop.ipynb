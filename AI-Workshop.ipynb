{
  "cells": [
    {
      "cell_type": "code",
      "execution_count": null,
      "metadata": {
        "id": "w-exnmU2nwN0"
      },
      "outputs": [],
      "source": [
        "#%%capture\n",
        "!wget -O mini.sh https://repo.anaconda.com/miniconda/Miniconda3-py38_4.8.2-Linux-x86_64.sh\n",
        "!chmod +x mini.sh\n",
        "!bash ./mini.sh -b -f -p /usr/local\n",
        "!conda install -q -y jupyter\n",
        "!conda install -q -y google-colab -c conda-forge\n",
        "!python -m ipykernel install --name \"py38\" --user"
      ]
    },
    {
      "cell_type": "code",
      "execution_count": null,
      "metadata": {
        "id": "Hb2sKO-CsD9s"
      },
      "outputs": [],
      "source": [
        "import sys\n",
        "print(sys.version)"
      ]
    },
    {
      "cell_type": "code",
      "execution_count": null,
      "metadata": {
        "id": "rJQ0SFPbzC9t"
      },
      "outputs": [],
      "source": [
        "!wget https://github.com/qess/aiworkshop/raw/main/AI-Workshop.zip\n",
        "import zipfile\n",
        "zip_ref = zipfile.ZipFile(\"/content/AI-Workshop.zip\", \"r\")\n",
        "zip_ref.extractall()\n",
        "zip_ref.close()\n",
        "!pip install -r  /content/src/requirements.txt\n",
        "!pip install /content/src/AI_Software_Development_Kit_v1.4.1/simaticai-1.4.1-py3-none-any.whl\n",
        "!python /content/src/notebooks/runme.py"
      ]
    }
  ],
  "metadata": {
    "colab": {
      "provenance": []
    },
    "kernelspec": {
      "display_name": "Python 3.8",
      "name": "py38"
    },
    "language_info": {
      "name": "python"
    }
  },
  "nbformat": 4,
  "nbformat_minor": 0
}